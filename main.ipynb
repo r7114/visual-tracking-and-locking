{
 "cells": [
  {
   "cell_type": "code",
   "execution_count": null,
   "id": "984edb9c",
   "metadata": {},
   "outputs": [],
   "source": [
    "import ui"
   ]
  },
  {
   "cell_type": "code",
   "execution_count": null,
   "id": "999f8301",
   "metadata": {},
   "outputs": [],
   "source": [
    "import movement_handler\n",
    "import controller_class\n",
    "\n",
    "mh = movement_handler.handler\n",
    "ctrl = controller_class.controller(mh,ui.handler)"
   ]
  },
  {
   "cell_type": "code",
   "execution_count": null,
   "id": "afa3ad6c",
   "metadata": {},
   "outputs": [],
   "source": []
  }
 ],
 "metadata": {
  "kernelspec": {
   "display_name": "Python 3 (ipykernel)",
   "language": "python",
   "name": "python3"
  },
  "language_info": {
   "codemirror_mode": {
    "name": "ipython",
    "version": 3
   },
   "file_extension": ".py",
   "mimetype": "text/x-python",
   "name": "python",
   "nbconvert_exporter": "python",
   "pygments_lexer": "ipython3",
   "version": "3.7.0"
  }
 },
 "nbformat": 4,
 "nbformat_minor": 5
}
